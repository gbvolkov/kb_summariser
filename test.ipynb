{
 "cells": [
  {
   "cell_type": "code",
   "execution_count": 1,
   "metadata": {},
   "outputs": [],
   "source": [
    "import pandas as pd\n",
    "import re"
   ]
  },
  {
   "cell_type": "code",
   "execution_count": 4,
   "metadata": {},
   "outputs": [],
   "source": [
    "def cleanup(input_str):\n",
    "    \"\"\"\n",
    "    Cleans the input string by removing unnecessary information such as image links,\n",
    "    player controls, time codes, and redundant whitespace.\n",
    "\n",
    "    Args:\n",
    "        input_str (str): The string to be cleaned.\n",
    "\n",
    "    Returns:\n",
    "        str: The cleaned string.\n",
    "    \"\"\"\n",
    "    # Split the input string into individual lines\n",
    "    lines = input_str.split('\\n')\n",
    "    \n",
    "    cleaned_lines = []\n",
    "    \n",
    "    # Define patterns to identify unnecessary lines\n",
    "    image_pattern = re.compile(r'^!\\[\\]\\(.*\\)|Файл не найден', re.IGNORECASE)\n",
    "    player_controls = ['PausePlay', 'UnmuteMute', 'Exit fullscreen', 'Enter fullscreen']\n",
    "    time_code_patterns = [\n",
    "        re.compile(r'^\\d{1,2}:\\d{2}(-\\d{1,2}:\\d{2})?$'),        # e.g., 00:00 or 00:00-00:45\n",
    "        re.compile(r'^% buffered\\d{2}:\\d{2}$')                  # e.g., % buffered00:00\n",
    "    ]\n",
    "    \n",
    "    for line in lines:\n",
    "        line = line.strip()\n",
    "        \n",
    "        # Skip empty lines\n",
    "        if not line:\n",
    "            continue\n",
    "        \n",
    "        # Remove image links\n",
    "        if image_pattern.search(line):\n",
    "            continue\n",
    "        \n",
    "        # Remove player controls\n",
    "        if any(control in line for control in player_controls):\n",
    "            continue\n",
    "        \n",
    "        # Remove time codes\n",
    "        if any(pattern.match(line) for pattern in time_code_patterns):\n",
    "            continue\n",
    "        \n",
    "        # Remove bullet points (optional: remove '*' and leading spaces)\n",
    "        line = re.sub(r'^[*\\-]\\s+', '', line)\n",
    "        \n",
    "        # Optionally, remove lines that are solely numbers or symbols\n",
    "        if re.match(r'^[\\d\\s\\-:]+$', line):\n",
    "            continue\n",
    "        \n",
    "        # Append the cleaned line\n",
    "        cleaned_lines.append(line)\n",
    "    \n",
    "    # Join the cleaned lines back into a single string\n",
    "    cleaned_str = '\\n'.join(cleaned_lines)\n",
    "    \n",
    "    return cleaned_str"
   ]
  },
  {
   "cell_type": "code",
   "execution_count": 6,
   "metadata": {},
   "outputs": [],
   "source": [
    "#df = pd.read_csv('./data/articles_data_summ_OK.csv', encoding=\"utf-8\")\n",
    "df = pd.read_csv('./data/articles_data_summ.csv', encoding=\"utf-8\")\n",
    "\n",
    "df['validated'] = ''\n",
    "df['refs'] = df['refs'].apply(cleanup)\n",
    "\n",
    "df.to_csv(\n",
    "                './data/articles_data_summ_cleaned.csv',\n",
    "                index=False\n",
    "            )\n",
    "\n"
   ]
  }
 ],
 "metadata": {
  "kernelspec": {
   "display_name": ".venv",
   "language": "python",
   "name": "python3"
  },
  "language_info": {
   "codemirror_mode": {
    "name": "ipython",
    "version": 3
   },
   "file_extension": ".py",
   "mimetype": "text/x-python",
   "name": "python",
   "nbconvert_exporter": "python",
   "pygments_lexer": "ipython3",
   "version": "3.12.7"
  }
 },
 "nbformat": 4,
 "nbformat_minor": 2
}
