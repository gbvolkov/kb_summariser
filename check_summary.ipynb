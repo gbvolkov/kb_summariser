{
 "cells": [
  {
   "cell_type": "code",
   "execution_count": 26,
   "metadata": {},
   "outputs": [],
   "source": [
    "import pandas as pd\n",
    "import re\n",
    "import os\n",
    "import config\n",
    "\n",
    "from assistants.simple_assistants import SimpleAssistantMistralAI, SimpleAssistantGPT, SimpleAssistantYA, SimpleAssistantSber\n",
    "\n",
    "os.environ[\"LANGCHAIN_TRACING_V2\"] = \"true\"\n"
   ]
  },
  {
   "cell_type": "code",
   "execution_count": 2,
   "metadata": {},
   "outputs": [],
   "source": [
    "df = pd.read_csv('./data/articles_data_summ.csv')"
   ]
  },
  {
   "cell_type": "code",
   "execution_count": 3,
   "metadata": {},
   "outputs": [],
   "source": [
    "filtered_df = df[df['no'] - df['no'].shift(1) > 1]"
   ]
  },
  {
   "cell_type": "code",
   "execution_count": 5,
   "metadata": {},
   "outputs": [
    {
     "name": "stdout",
     "output_type": "stream",
     "text": [
      "2691    553\n",
      "3053    627\n",
      "3071    646\n",
      "3218    734\n",
      "3330    803\n",
      "3404    857\n",
      "3458    887\n",
      "3462    891\n",
      "Name: no, dtype: int64\n"
     ]
    }
   ],
   "source": [
    "print(filtered_df['no'])"
   ]
  },
  {
   "cell_type": "code",
   "execution_count": 7,
   "metadata": {},
   "outputs": [],
   "source": [
    "def cleanup_text(text: str):\n",
    "    text = text.replace('Загрузка, пожалуйста подождите.', '')\n",
    "    return re.sub(r'##IMAGE##\\s+\\S+\\.(png|jpg|jpeg|gif)', '', text)"
   ]
  },
  {
   "cell_type": "code",
   "execution_count": 24,
   "metadata": {},
   "outputs": [
    {
     "name": "stderr",
     "output_type": "stream",
     "text": [
      "INFO:assistants.simple_assistants:Initializing chat model\n",
      "INFO:assistants.simple_assistants:Initialized\n"
     ]
    }
   ],
   "source": [
    "prompt = \"\"\"Проанализируй текст. Верни OK, если текст содержит полезную информацию. Верни NOK, если текст не содержит полезхной информации. Всегда возвращай только одно слово OK или NOK.\n",
    "    \"\"\"\n",
    "checker = SimpleAssistantGPT(prompt)"
   ]
  },
  {
   "cell_type": "code",
   "execution_count": 27,
   "metadata": {},
   "outputs": [
    {
     "name": "stderr",
     "output_type": "stream",
     "text": [
      "INFO:httpx:HTTP Request: POST https://api.openai.com/v1/chat/completions \"HTTP/1.1 200 OK\"\n"
     ]
    },
    {
     "name": "stdout",
     "output_type": "stream",
     "text": [
      "0 624-Введение: Инструкция для специалистов технической поддержки: NOK\n"
     ]
    },
    {
     "name": "stderr",
     "output_type": "stream",
     "text": [
      "INFO:httpx:HTTP Request: POST https://api.openai.com/v1/chat/completions \"HTTP/1.1 200 OK\"\n"
     ]
    },
    {
     "name": "stdout",
     "output_type": "stream",
     "text": [
      "1 625-Обязательные подсистемы: Обязательные подсистемы: NOK\n"
     ]
    },
    {
     "name": "stderr",
     "output_type": "stream",
     "text": [
      "INFO:httpx:HTTP Request: POST https://api.openai.com/v1/chat/completions \"HTTP/1.1 200 OK\"\n"
     ]
    },
    {
     "name": "stdout",
     "output_type": "stream",
     "text": [
      "2 627-Настройка плана обмена: Настройка плана обмена: NOK\n"
     ]
    },
    {
     "name": "stderr",
     "output_type": "stream",
     "text": [
      "INFO:httpx:HTTP Request: POST https://api.openai.com/v1/chat/completions \"HTTP/1.1 200 OK\"\n"
     ]
    },
    {
     "name": "stdout",
     "output_type": "stream",
     "text": [
      "3 628-Формы планов обмена: Планы обмена: NOK\n"
     ]
    },
    {
     "name": "stderr",
     "output_type": "stream",
     "text": [
      "INFO:httpx:HTTP Request: POST https://api.openai.com/v1/chat/completions \"HTTP/1.1 200 OK\"\n"
     ]
    },
    {
     "name": "stdout",
     "output_type": "stream",
     "text": [
      "4 629-Менеджер регистрации: Инструкция для специалистов техподдержки: NOK\n"
     ]
    },
    {
     "name": "stderr",
     "output_type": "stream",
     "text": [
      "INFO:httpx:HTTP Request: POST https://api.openai.com/v1/chat/completions \"HTTP/1.1 200 OK\"\n"
     ]
    },
    {
     "name": "stdout",
     "output_type": "stream",
     "text": [
      "5 630-Подписки на события: Подписки на события: NOK\n"
     ]
    },
    {
     "name": "stderr",
     "output_type": "stream",
     "text": [
      "INFO:httpx:HTTP Request: POST https://api.openai.com/v1/chat/completions \"HTTP/1.1 200 OK\"\n"
     ]
    },
    {
     "name": "stdout",
     "output_type": "stream",
     "text": [
      "6 631-Общие команды: Общие команды: NOK\n"
     ]
    },
    {
     "name": "stderr",
     "output_type": "stream",
     "text": [
      "INFO:httpx:HTTP Request: POST https://api.openai.com/v1/chat/completions \"HTTP/1.1 200 OK\"\n"
     ]
    },
    {
     "name": "stdout",
     "output_type": "stream",
     "text": [
      "7 632-Отключение проверок: Отключение проверок: NOK\n"
     ]
    },
    {
     "name": "stderr",
     "output_type": "stream",
     "text": [
      "INFO:httpx:HTTP Request: POST https://api.openai.com/v1/chat/completions \"HTTP/1.1 200 OK\"\n"
     ]
    },
    {
     "name": "stdout",
     "output_type": "stream",
     "text": [
      "8 633-Обзор настроек подсистемы \"Обмен данными\" БСП: Обзор настроек подсистемы \"Обмен данными\" БСП: NOK\n"
     ]
    },
    {
     "name": "stderr",
     "output_type": "stream",
     "text": [
      "INFO:httpx:HTTP Request: POST https://api.openai.com/v1/chat/completions \"HTTP/1.1 200 OK\"\n"
     ]
    },
    {
     "name": "stdout",
     "output_type": "stream",
     "text": [
      "9 634-Общая настройка конвертации: Общая настройка конвертации: NOK\n"
     ]
    }
   ],
   "source": [
    "with pd.read_csv('./data/articles_data_summ.csv', chunksize=1, encoding=\"utf-8\", skiprows=range(1,3052)) as reader:\n",
    "    idx = 0\n",
    "    for chunk in reader:\n",
    "        row_index = chunk.index[0]\n",
    "        refs = chunk['refs'].iloc[0]\n",
    "        no = chunk['no'].iloc[0]\n",
    "        problem = chunk['problem'].iloc[0]\n",
    "        cleaned_refs = cleanup_text(refs)\n",
    "        query = {\n",
    "            \"query\": cleaned_refs\n",
    "        }\n",
    "        response = checker.ask_question(query=query)\n",
    "        print(f'{row_index} {no}-{problem}: {response}')\n",
    "        idx += 1\n",
    "        if idx >= 10:\n",
    "            break\n"
   ]
  }
 ],
 "metadata": {
  "kernelspec": {
   "display_name": ".venv",
   "language": "python",
   "name": "python3"
  },
  "language_info": {
   "codemirror_mode": {
    "name": "ipython",
    "version": 3
   },
   "file_extension": ".py",
   "mimetype": "text/x-python",
   "name": "python",
   "nbconvert_exporter": "python",
   "pygments_lexer": "ipython3",
   "version": "3.12.7"
  }
 },
 "nbformat": 4,
 "nbformat_minor": 2
}
