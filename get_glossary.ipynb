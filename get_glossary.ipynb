{
 "cells": [
  {
   "cell_type": "code",
   "execution_count": 91,
   "metadata": {},
   "outputs": [],
   "source": [
    "import pandas as pd\n"
   ]
  },
  {
   "cell_type": "code",
   "execution_count": 92,
   "metadata": {},
   "outputs": [],
   "source": [
    "df_terms = pd.read_excel('./data/Глоссарий.xlsx', sheet_name='Термины и определения', usecols='A,B')\n",
    "df_terms = df_terms.dropna(subset=['Термин'])"
   ]
  },
  {
   "cell_type": "code",
   "execution_count": 93,
   "metadata": {},
   "outputs": [],
   "source": [
    "def format_row(row):\n",
    "    # Check if 'Определение' is NaN; if so, assign it the value of 'Термин'\n",
    "    if pd.isna(row['Определение']):\n",
    "        definition = row['Термин']\n",
    "    else:\n",
    "        definition = row['Определение']\n",
    "    \n",
    "    return (\n",
    "        f\"##Term: {row['Термин']}\\n\"\n",
    "        f\"##Definition: {definition}\\n\\n\"\n",
    "    )"
   ]
  },
  {
   "cell_type": "code",
   "execution_count": 94,
   "metadata": {},
   "outputs": [],
   "source": [
    "formatted_strings = df_terms.apply(format_row, axis=1)"
   ]
  },
  {
   "cell_type": "code",
   "execution_count": 95,
   "metadata": {},
   "outputs": [],
   "source": [
    "context = formatted_strings.sum()"
   ]
  },
  {
   "cell_type": "code",
   "execution_count": 96,
   "metadata": {},
   "outputs": [],
   "source": [
    "with open('./data/terms&defs.txt', 'w', encoding='utf-8') as file:\n",
    "    file.write(context)"
   ]
  },
  {
   "cell_type": "code",
   "execution_count": 97,
   "metadata": {},
   "outputs": [],
   "source": [
    "df_terms = pd.read_excel('./data/Глоссарий.xlsx', sheet_name='Краткие обозначения', usecols='A,C')\n",
    "df_terms = df_terms.dropna(subset=['Аббревиатура'])"
   ]
  },
  {
   "cell_type": "code",
   "execution_count": 98,
   "metadata": {},
   "outputs": [
    {
     "data": {
      "text/html": [
       "<div>\n",
       "<style scoped>\n",
       "    .dataframe tbody tr th:only-of-type {\n",
       "        vertical-align: middle;\n",
       "    }\n",
       "\n",
       "    .dataframe tbody tr th {\n",
       "        vertical-align: top;\n",
       "    }\n",
       "\n",
       "    .dataframe thead th {\n",
       "        text-align: right;\n",
       "    }\n",
       "</style>\n",
       "<table border=\"1\" class=\"dataframe\">\n",
       "  <thead>\n",
       "    <tr style=\"text-align: right;\">\n",
       "      <th></th>\n",
       "      <th>Аббревиатура</th>\n",
       "      <th>Расшифровка</th>\n",
       "    </tr>\n",
       "  </thead>\n",
       "  <tbody>\n",
       "    <tr>\n",
       "      <th>0</th>\n",
       "      <td>1С:УХ</td>\n",
       "      <td>информационная система Управление Холдингом</td>\n",
       "    </tr>\n",
       "    <tr>\n",
       "      <th>1</th>\n",
       "      <td>1С:CRM</td>\n",
       "      <td>система для менеджмента бизнес-процессов</td>\n",
       "    </tr>\n",
       "    <tr>\n",
       "      <th>2</th>\n",
       "      <td>CRM, DocFlow</td>\n",
       "      <td>система для менеджмента бизнес-процессов</td>\n",
       "    </tr>\n",
       "    <tr>\n",
       "      <th>3</th>\n",
       "      <td>DF</td>\n",
       "      <td>1C:Docflow</td>\n",
       "    </tr>\n",
       "    <tr>\n",
       "      <th>4</th>\n",
       "      <td>HCV</td>\n",
       "      <td>грузовые автомобили, имеющие полную массу свыш...</td>\n",
       "    </tr>\n",
       "  </tbody>\n",
       "</table>\n",
       "</div>"
      ],
      "text/plain": [
       "   Аббревиатура                                        Расшифровка\n",
       "0        1С:УХ         информационная система Управление Холдингом\n",
       "1        1С:CRM           система для менеджмента бизнес-процессов\n",
       "2  CRM, DocFlow          система для менеджмента бизнес-процессов \n",
       "3           DF                                          1C:Docflow\n",
       "4           HCV  грузовые автомобили, имеющие полную массу свыш..."
      ]
     },
     "execution_count": 98,
     "metadata": {},
     "output_type": "execute_result"
    }
   ],
   "source": [
    "df_terms.head()"
   ]
  },
  {
   "cell_type": "code",
   "execution_count": 99,
   "metadata": {},
   "outputs": [],
   "source": [
    "def format_row(row):\n",
    "    # Check if 'Определение' is NaN; if so, assign it the value of 'Термин'\n",
    "    if pd.isna(row['Расшифровка']):\n",
    "        definition = row['Аббревиатура']\n",
    "    else:\n",
    "        definition = row['Расшифровка']\n",
    "    \n",
    "    return (\n",
    "        f\"##Term: {row['Аббревиатура']}\\n\"\n",
    "        f\"##Definition: {definition}\\n\\n\"\n",
    "    )"
   ]
  },
  {
   "cell_type": "code",
   "execution_count": 100,
   "metadata": {},
   "outputs": [],
   "source": [
    "formatted_strings = df_terms.apply(format_row, axis=1)"
   ]
  },
  {
   "cell_type": "code",
   "execution_count": 101,
   "metadata": {},
   "outputs": [],
   "source": [
    "context = formatted_strings.sum()"
   ]
  },
  {
   "cell_type": "code",
   "execution_count": 102,
   "metadata": {},
   "outputs": [],
   "source": [
    "with open('./data/abbreviations.txt', 'w', encoding='utf-8') as file:\n",
    "    file.write(context)"
   ]
  },
  {
   "cell_type": "code",
   "execution_count": 103,
   "metadata": {},
   "outputs": [],
   "source": [
    "df_terms = pd.read_excel('./data/Глоссарий.xlsx', sheet_name='Подразделения', usecols='A,B')\n",
    "df_terms = df_terms.dropna(subset=['Аббревиатура'])"
   ]
  },
  {
   "cell_type": "code",
   "execution_count": 104,
   "metadata": {},
   "outputs": [
    {
     "data": {
      "text/html": [
       "<div>\n",
       "<style scoped>\n",
       "    .dataframe tbody tr th:only-of-type {\n",
       "        vertical-align: middle;\n",
       "    }\n",
       "\n",
       "    .dataframe tbody tr th {\n",
       "        vertical-align: top;\n",
       "    }\n",
       "\n",
       "    .dataframe thead th {\n",
       "        text-align: right;\n",
       "    }\n",
       "</style>\n",
       "<table border=\"1\" class=\"dataframe\">\n",
       "  <thead>\n",
       "    <tr style=\"text-align: right;\">\n",
       "      <th></th>\n",
       "      <th>Подразделение</th>\n",
       "      <th>Аббревиатура</th>\n",
       "    </tr>\n",
       "  </thead>\n",
       "  <tbody>\n",
       "    <tr>\n",
       "      <th>0</th>\n",
       "      <td>Интерлизинг</td>\n",
       "      <td>ИЛ</td>\n",
       "    </tr>\n",
       "    <tr>\n",
       "      <th>1</th>\n",
       "      <td>Коммерческий блок</td>\n",
       "      <td>КБ</td>\n",
       "    </tr>\n",
       "    <tr>\n",
       "      <th>2</th>\n",
       "      <td>Группа по работе с поставщиками и агентами</td>\n",
       "      <td>ГРП</td>\n",
       "    </tr>\n",
       "    <tr>\n",
       "      <th>3</th>\n",
       "      <td>Группа партнерских продаж</td>\n",
       "      <td>ГПП</td>\n",
       "    </tr>\n",
       "    <tr>\n",
       "      <th>4</th>\n",
       "      <td>Отдел организации продаж</td>\n",
       "      <td>ООП</td>\n",
       "    </tr>\n",
       "  </tbody>\n",
       "</table>\n",
       "</div>"
      ],
      "text/plain": [
       "                                 Подразделение Аббревиатура\n",
       "0                                  Интерлизинг           ИЛ\n",
       "1                            Коммерческий блок           КБ\n",
       "2  Группа по работе с поставщиками и агентами           ГРП\n",
       "3                    Группа партнерских продаж          ГПП\n",
       "4                     Отдел организации продаж          ООП"
      ]
     },
     "execution_count": 104,
     "metadata": {},
     "output_type": "execute_result"
    }
   ],
   "source": [
    "df_terms.head()"
   ]
  },
  {
   "cell_type": "code",
   "execution_count": 105,
   "metadata": {},
   "outputs": [],
   "source": [
    "def format_row(row):\n",
    "    # Check if 'Определение' is NaN; if so, assign it the value of 'Термин'\n",
    "    if pd.isna(row['Аббревиатура']):\n",
    "        definition = row['Аббревиатура']\n",
    "    else:\n",
    "        definition = row['Подразделение']\n",
    "    \n",
    "    return (\n",
    "        f\"##Term: {row['Аббревиатура']}\\n\"\n",
    "        f\"##Definition: {definition}\\n\\n\"\n",
    "    )"
   ]
  },
  {
   "cell_type": "code",
   "execution_count": 106,
   "metadata": {},
   "outputs": [],
   "source": [
    "formatted_strings = df_terms.apply(format_row, axis=1)"
   ]
  },
  {
   "cell_type": "code",
   "execution_count": 107,
   "metadata": {},
   "outputs": [],
   "source": [
    "context = formatted_strings.sum()"
   ]
  },
  {
   "cell_type": "code",
   "execution_count": 108,
   "metadata": {},
   "outputs": [],
   "source": [
    "with open('./data/departments.txt', 'w', encoding='utf-8') as file:\n",
    "    file.write(context)"
   ]
  }
 ],
 "metadata": {
  "kernelspec": {
   "display_name": ".venv",
   "language": "python",
   "name": "python3"
  },
  "language_info": {
   "codemirror_mode": {
    "name": "ipython",
    "version": 3
   },
   "file_extension": ".py",
   "mimetype": "text/x-python",
   "name": "python",
   "nbconvert_exporter": "python",
   "pygments_lexer": "ipython3",
   "version": "3.12.7"
  }
 },
 "nbformat": 4,
 "nbformat_minor": 2
}
